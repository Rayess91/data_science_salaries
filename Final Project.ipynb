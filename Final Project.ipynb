{
 "cells": [
  {
   "cell_type": "markdown",
   "id": "41cfcde0",
   "metadata": {},
   "source": [
    "links to ds_salaries datasets:\n",
    "\n",
    "https://www.kaggle.com/datasets/murilozangari/jobs-and-salaries-in-data-field-2024\n",
    "\n",
    "https://www.kaggle.com/datasets/sazidthe1/data-science-salaries\n",
    "\n",
    "https://www.kaggle.com/datasets/lorenzovzquez/data-jobs-salaries\n",
    "\n",
    "https://www.kaggle.com/datasets/arnabchaki/data-science-salaries-2023"
   ]
  },
  {
   "cell_type": "code",
   "execution_count": null,
   "id": "7a20e02d",
   "metadata": {},
   "outputs": [],
   "source": [
    "import pandas as pd\n",
    "import pycountry\n",
    "import seaborn as sns\n",
    "import matplotlib.pyplot as plt"
   ]
  },
  {
   "cell_type": "code",
   "execution_count": null,
   "id": "54bc2131",
   "metadata": {},
   "outputs": [],
   "source": [
    "data = pd.read_csv('salaries.csv')\n",
    "data1= pd.read_csv('jobs_in_data_2024.csv')\n",
    "data2= pd.read_csv('ds_salaries.csv')\n",
    "data3= pd.read_csv('data_science_salaries.csv')"
   ]
  },
  {
   "cell_type": "code",
   "execution_count": null,
   "id": "29658f3b",
   "metadata": {
    "scrolled": true
   },
   "outputs": [],
   "source": [
    "ds_salaries = pd.concat([data, data1, data2, data3], ignore_index=True)\n",
    "ds_salaries"
   ]
  },
  {
   "cell_type": "markdown",
   "id": "8062d3eb",
   "metadata": {},
   "source": [
    "# Handling NaN values"
   ]
  },
  {
   "cell_type": "code",
   "execution_count": null,
   "id": "d6b3ed25",
   "metadata": {},
   "outputs": [],
   "source": [
    "ds_salaries.isnull().sum()"
   ]
  },
  {
   "cell_type": "code",
   "execution_count": null,
   "id": "844301a9",
   "metadata": {},
   "outputs": [],
   "source": [
    "# in the concatenated ds.salaries we have following columns all referring to the working model: work_models, work_setting, remote_ratio\n",
    "# so i'm going to combine them in one column "
   ]
  },
  {
   "cell_type": "code",
   "execution_count": null,
   "id": "7538c068",
   "metadata": {},
   "outputs": [],
   "source": [
    "ds_salaries['remote_ratio'].value_counts(dropna=False)"
   ]
  },
  {
   "cell_type": "code",
   "execution_count": null,
   "id": "2eae4e08",
   "metadata": {},
   "outputs": [],
   "source": [
    "ds_salaries['work_models'].value_counts(dropna=False)"
   ]
  },
  {
   "cell_type": "code",
   "execution_count": null,
   "id": "853da6dc",
   "metadata": {},
   "outputs": [],
   "source": [
    "ds_salaries['work_setting'].value_counts(dropna=False)"
   ]
  },
  {
   "cell_type": "code",
   "execution_count": null,
   "id": "7c2ef2cc",
   "metadata": {},
   "outputs": [],
   "source": [
    "#filling the NaN values in remote_ratio with the values from the other columns and then dropping the unnecessary columns\n",
    "def fill_remote_ratio(row):\n",
    "    if pd.isna(row['remote_ratio']):\n",
    "        \n",
    "        if row['work_models'] == 'Hybrid':\n",
    "            return 50.0\n",
    "        elif row['work_models'] == 'Remote':\n",
    "            return 100.0\n",
    "        elif row['work_models'] == 'On-site':\n",
    "            return 0.0\n",
    "      \n",
    "        if pd.isna(row['work_models']):\n",
    "            if row['work_setting'] == 'Hybrid':\n",
    "                return 50.0\n",
    "            elif row['work_setting'] == 'Remote':\n",
    "                return 100.0\n",
    "            elif row['work_setting'] == 'In-person':\n",
    "                return 0\n",
    "    return row['remote_ratio']"
   ]
  },
  {
   "cell_type": "code",
   "execution_count": null,
   "id": "6345c8cc",
   "metadata": {},
   "outputs": [],
   "source": [
    "ds_salaries['remote_ratio'] = ds_salaries.apply(fill_remote_ratio, axis=1)"
   ]
  },
  {
   "cell_type": "code",
   "execution_count": null,
   "id": "0e95963a",
   "metadata": {},
   "outputs": [],
   "source": [
    "ds_salaries['remote_ratio'].value_counts(dropna=False)"
   ]
  },
  {
   "cell_type": "code",
   "execution_count": null,
   "id": "fcb8bb48",
   "metadata": {},
   "outputs": [],
   "source": [
    "ds_salaries = ds_salaries.drop(columns=['work_models', 'work_setting', 'job_category'])"
   ]
  },
  {
   "cell_type": "code",
   "execution_count": null,
   "id": "5bc80ff7",
   "metadata": {},
   "outputs": [],
   "source": [
    "ds_salaries.isnull().sum()"
   ]
  },
  {
   "cell_type": "markdown",
   "id": "63fd7701",
   "metadata": {},
   "source": [
    "# Checking values in different columns"
   ]
  },
  {
   "cell_type": "code",
   "execution_count": null,
   "id": "84f2e8e3",
   "metadata": {},
   "outputs": [],
   "source": [
    "#checking the values in experience_level and unifying them\n",
    "ds_salaries['experience_level'].value_counts(dropna=False)"
   ]
  },
  {
   "cell_type": "code",
   "execution_count": null,
   "id": "4d7e2473",
   "metadata": {},
   "outputs": [],
   "source": [
    "level_mapping = {\n",
    "    'SE': 'Senior',\n",
    "    'Senior': 'Senior',\n",
    "    'MI': 'Mid-level',\n",
    "    'Mid-level': 'Mid-level',\n",
    "    'Senior-level': 'Senior',\n",
    "    'EN': 'Entry-level',\n",
    "    'Entry-level': 'Entry-level',\n",
    "    'EX': 'Executive',\n",
    "    'Executive': 'Executive',\n",
    "    'Executive-level': 'Executive'\n",
    "}\n",
    "\n",
    "ds_salaries['experience_level'] = ds_salaries['experience_level'].map(level_mapping)"
   ]
  },
  {
   "cell_type": "code",
   "execution_count": null,
   "id": "ae1e2409",
   "metadata": {},
   "outputs": [],
   "source": [
    "#checking the values in employment_type and unifying them\n",
    "ds_salaries['employment_type'].value_counts(dropna=False)"
   ]
  },
  {
   "cell_type": "code",
   "execution_count": null,
   "id": "af2846ce",
   "metadata": {},
   "outputs": [],
   "source": [
    "type_mapping = {\n",
    "    'FT': 'Full-time',\n",
    "    'Full-time': 'Full-time',\n",
    "    'PT': 'Part-time',\n",
    "    'Part-time': 'Part-time',\n",
    "    'Contract': 'Contract',\n",
    "    'CT': 'Contract',\n",
    "    'FL': 'Freelance',\n",
    "    'Freelance': 'Freelance'\n",
    "}\n",
    "\n",
    "\n",
    "ds_salaries['employment_type'] = ds_salaries['employment_type'].map(type_mapping)"
   ]
  },
  {
   "cell_type": "code",
   "execution_count": null,
   "id": "f951af30",
   "metadata": {},
   "outputs": [],
   "source": [
    "#checking the values in company_size and unifying them\n",
    "ds_salaries['company_size'].value_counts(dropna=False)"
   ]
  },
  {
   "cell_type": "code",
   "execution_count": null,
   "id": "f3af7bfb",
   "metadata": {},
   "outputs": [],
   "source": [
    "size_mapping = {\n",
    "    'M': 'Medium',\n",
    "    'Medium': 'Medium',\n",
    "    'L': 'Large',\n",
    "    'Large': 'Large',\n",
    "    'S': 'Small',\n",
    "    'Small': 'Small'\n",
    "}\n",
    "\n",
    "\n",
    "ds_salaries['company_size'] = ds_salaries['company_size'].map(size_mapping)\n"
   ]
  },
  {
   "cell_type": "markdown",
   "id": "e8f8f316",
   "metadata": {},
   "source": [
    "# Handling duplicates"
   ]
  },
  {
   "cell_type": "code",
   "execution_count": null,
   "id": "71f32dfe",
   "metadata": {},
   "outputs": [],
   "source": [
    "#checking for duplicates\n",
    "ds_salaries.duplicated().sum()\n",
    "\n"
   ]
  },
  {
   "cell_type": "code",
   "execution_count": null,
   "id": "a197c165",
   "metadata": {},
   "outputs": [],
   "source": [
    "#dropping duplicates \n",
    "ds_salaries = ds_salaries.drop_duplicates()"
   ]
  },
  {
   "cell_type": "code",
   "execution_count": null,
   "id": "c93c49de",
   "metadata": {},
   "outputs": [],
   "source": [
    "ds_salaries"
   ]
  },
  {
   "cell_type": "code",
   "execution_count": null,
   "id": "4642a92b",
   "metadata": {},
   "outputs": [],
   "source": [
    "#changing country codes to names\n",
    "country_dict = {country.alpha_2: country.name for country in pycountry.countries}\n",
    "\n",
    "def code_to_name(code):\n",
    "    return country_dict.get(code, code)\n",
    "\n",
    "\n",
    "ds_salaries['company_location'] = ds_salaries['company_location'].apply(code_to_name)\n",
    "ds_salaries['employee_residence'] = ds_salaries['employee_residence'].apply(code_to_name)\n",
    "\n",
    "ds_salaries"
   ]
  },
  {
   "cell_type": "code",
   "execution_count": null,
   "id": "635c05fd",
   "metadata": {},
   "outputs": [],
   "source": [
    "# changing all the salaries to EUR and dropping the unnecessary columns. Exchange rate 26.05.2024 @ 1$ = 0,92€ (0,92 is also close to average rate)"
   ]
  },
  {
   "cell_type": "code",
   "execution_count": null,
   "id": "d0103da2",
   "metadata": {},
   "outputs": [],
   "source": [
    "# adding salaries in eur column @ 1usd = 0,92eur\n",
    "ds_salaries['salary_in_eur'] = ds_salaries['salary_in_usd'] * 0.92"
   ]
  },
  {
   "cell_type": "code",
   "execution_count": null,
   "id": "373482e4",
   "metadata": {},
   "outputs": [],
   "source": [
    "#dropping unnecessary columns.\n",
    "ds_salaries = ds_salaries.drop(columns=['salary', 'salary_in_usd', 'salary_currency'])\n",
    "ds_salaries"
   ]
  },
  {
   "cell_type": "code",
   "execution_count": null,
   "id": "06d99a4f",
   "metadata": {},
   "outputs": [],
   "source": [
    "#listing countries to statistics\n",
    "stats_countries = [\n",
    "    'Austria', 'Belgium', 'Croatia', 'Cyprus', 'Czech Republic', 'Denmark', 'Finland', 'France',\n",
    "    'Germany', 'Greece', 'Hungary', 'Iceland', 'Ireland', 'Italy', 'Liechtenstein', 'Luxembourg', 'Malta', 'Netherlands', 'Norway',\n",
    "    'Poland', 'Portugal', 'Spain', 'Sweden',\n",
    "    'Switzerland', 'United Kingdom', 'Vatican City', 'United States', 'Canada', 'Qatar', 'Japan', 'Australia', 'United Arab Emirates', 'Saudi Arabia']\n"
   ]
  },
  {
   "cell_type": "code",
   "execution_count": null,
   "id": "072837f6",
   "metadata": {},
   "outputs": [],
   "source": [
    "stats_countries= ds_salaries[ds_salaries['company_location'].isin(stats_countries)]"
   ]
  },
  {
   "cell_type": "code",
   "execution_count": null,
   "id": "bb632ff7",
   "metadata": {},
   "outputs": [],
   "source": [
    "#Grouping the job titles in categories \n",
    "job_titles = ['Data Manager', 'BI Developer', 'Data Analyst',\n",
    "       'Machine Learning Engineer', 'Data Scientist', 'Data Engineer',\n",
    "       'Applied Scientist', 'Data Architect', 'BI Analyst',\n",
    "       'Head of Data', 'Analytics Engineer', 'Business Intelligence',\n",
    "       'Data Quality Analyst', 'Research Engineer', 'Research Scientist',\n",
    "       'AI Engineer', 'Business Intelligence Analyst',\n",
    "       'Data Operations Manager', 'Machine Learning Scientist',\n",
    "       'Business Intelligence Lead', 'Data Quality Engineer',\n",
    "       'Data Integration Engineer', 'Cloud Database Engineer',\n",
    "       'Data Developer', 'Research Analyst',\n",
    "       'Data Visualization Developer', 'Data Integration Specialist',\n",
    "       'Data Modeler', 'Robotics Engineer', 'Data Specialist',\n",
    "       'AI Software Engineer', 'Business Intelligence Engineer',\n",
    "       'AI Architect', 'Data Analytics Manager',\n",
    "       'Data Analytics Specialist', 'Computer Vision Engineer',\n",
    "       'Data Operations Associate', 'AI Developer',\n",
    "       'Data Product Manager', 'Data Analytics Lead', 'Prompt Engineer',\n",
    "       'Insight Analyst', 'Data Operations Analyst',\n",
    "       'Data Reporting Analyst', 'Business Intelligence Developer',\n",
    "       'Data Product Owner', 'MLOps Engineer',\n",
    "       'Data Visualization Specialist', 'Lead AI Engineer',\n",
    "       'AI Product Manager', 'Data Management Specialist',\n",
    "       'Data Strategist', 'Robotics Software Engineer',\n",
    "       'Machine Learning Researcher', 'Data Lead', 'AI Scientist',\n",
    "       'Data Infrastructure Engineer', 'Machine Learning Developer',\n",
    "       'Machine Learning Manager', 'Master Data Specialist',\n",
    "       'Machine Learning Modeler', 'NLP Engineer',\n",
    "       'Data Management Analyst',\n",
    "       'Encounter Data Management Professional', 'Admin & Data Analyst',\n",
    "       'Consultant Data Engineer', 'Business Intelligence Manager',\n",
    "       'Data Quality Manager', 'Business Intelligence Specialist',\n",
    "       'Director of Business Intelligence', 'AI Research Scientist',\n",
    "       'Data Operations Specialist', 'Bear Robotics',\n",
    "       'Lead Data Scientist', 'Applied Research Scientist',\n",
    "       'Machine Learning Infrastructure Engineer', 'CRM Data Analyst',\n",
    "       'ETL Developer', 'BI Data Analyst', 'Applied Data Scientist',\n",
    "       'Computational Biologist', 'Data Analytics Associate',\n",
    "       'Data Management Consultant', 'Data DevOps Engineer',\n",
    "       'Big Data Developer', 'Quantitative Research Analyst',\n",
    "       'Lead Machine Learning Engineer',\n",
    "       'Machine Learning Research Engineer', 'Data Analytics Consultant',\n",
    "       'AI Research Engineer', 'ETL Engineer', 'Head of Machine Learning',\n",
    "       'Data Integration Developer', 'Data Pipeline Engineer',\n",
    "       'Business Data Analyst', 'Marketing Data Scientist',\n",
    "       'Deep Learning Engineer', 'Decision Scientist',\n",
    "       'Financial Data Analyst', 'Data Strategy Manager',\n",
    "       'Data Visualization Engineer', 'Principal Data Scientist',\n",
    "       'Staff Data Analyst', 'Machine Learning Software Engineer',\n",
    "       'AI Programmer', 'Applied Machine Learning Scientist',\n",
    "       'Data Operations Engineer', 'Principal Data Engineer',\n",
    "       'Power BI Developer', 'Staff Machine Learning Engineer',\n",
    "       'Staff Data Scientist', 'Machine Learning Specialist',\n",
    "       'Business Intelligence Data Analyst', 'Software Data Engineer',\n",
    "       'Compliance Data Analyst', 'Cloud Data Engineer',\n",
    "       'Analytics Engineering Manager', 'AWS Data Architect',\n",
    "       'Product Data Analyst', 'Data Visualization Analyst',\n",
    "       'Autonomous Vehicle Technician', 'Finance Data Analyst',\n",
    "       'Applied Machine Learning Engineer', 'Big Data Engineer',\n",
    "       'Lead Data Analyst', 'BI Data Engineer',\n",
    "       'Deep Learning Researcher', 'Big Data Architect',\n",
    "       'Computer Vision Software Engineer', 'Azure Data Engineer',\n",
    "       'Manager Data Management', 'Principal Machine Learning Engineer',\n",
    "       'Data Science Tech Lead', 'Data Scientist Lead',\n",
    "       'Marketing Data Analyst', 'Data Analytics Engineer',\n",
    "       'Cloud Data Architect', 'Lead Data Engineer',\n",
    "       'Principal Data Analyst', 'Data Science', 'Data Science Manager',\n",
    "       'Data Science Analyst', 'Data Science Consultant', 'ML Engineer',\n",
    "       'Data Science Director', 'Data Science Engineer',\n",
    "       'Machine Learning Operations Engineer',\n",
    "       'Data Science Practitioner', 'ML Ops Engineer',\n",
    "       'Data Science Lead', 'Director of Data Science',\n",
    "       'Managing Director Data Science', 'Head of Data Science',\n",
    "       'Data Modeller']\n",
    "\n",
    "\n",
    "def categorize_job_title(job_title):\n",
    "    job_title = job_title.lower()\n",
    "    if 'engineer' in job_title or 'engineering' in job_title:\n",
    "        return 'Data Engineering'\n",
    "    elif 'science' in job_title or 'scientist' in job_title:\n",
    "        return 'Data Science'\n",
    "    elif 'analytics' in job_title or 'analyst' in job_title:\n",
    "        return 'Data Analytics'\n",
    "    elif 'BI' in job_title or 'Intillegence' in job_title:\n",
    "        return 'Business Intellegence And Analytics'\n",
    "    \n",
    "    else:\n",
    "        return 'Other'\n",
    "\n",
    "job_categories = pd.DataFrame({'job_title': job_titles})\n",
    "\n",
    "stats_countries['job_category'] = stats_countries['job_title'].apply(categorize_job_title)\n",
    "\n"
   ]
  },
  {
   "cell_type": "code",
   "execution_count": null,
   "id": "d5b2e81b",
   "metadata": {},
   "outputs": [],
   "source": [
    "stats_countries = stats_countries.drop(columns=['job_title'])"
   ]
  },
  {
   "cell_type": "code",
   "execution_count": null,
   "id": "1383d9d5",
   "metadata": {},
   "outputs": [],
   "source": [
    "stat_countries = 'stats_countries.csv'\n",
    "stats_countries.to_csv(stat_countries, index=False)"
   ]
  },
  {
   "cell_type": "code",
   "execution_count": null,
   "id": "7f6f3b5d",
   "metadata": {},
   "outputs": [],
   "source": [
    "ds_salaries['job_category'] = ds_salaries['job_title'].apply(categorize_job_title)"
   ]
  },
  {
   "cell_type": "code",
   "execution_count": null,
   "id": "9ffe5272",
   "metadata": {},
   "outputs": [],
   "source": [
    "ds_salaries = ds_salaries.drop(columns=['job_title'])"
   ]
  },
  {
   "cell_type": "code",
   "execution_count": null,
   "id": "8f18f334",
   "metadata": {},
   "outputs": [],
   "source": [
    "datascience_salaries = 'ds_salaries.csv'\n",
    "ds_salaries.to_csv(datascience_salaries, index=False)"
   ]
  },
  {
   "cell_type": "code",
   "execution_count": null,
   "id": "4ca7ba9c",
   "metadata": {},
   "outputs": [],
   "source": [
    "ds_salaries"
   ]
  },
  {
   "cell_type": "markdown",
   "id": "fe106097",
   "metadata": {},
   "source": [
    "# Building Machine Learning Model"
   ]
  },
  {
   "cell_type": "code",
   "execution_count": null,
   "id": "5c893f3a",
   "metadata": {},
   "outputs": [],
   "source": [
    "#Linearregression model"
   ]
  },
  {
   "cell_type": "code",
   "execution_count": null,
   "id": "e9190414",
   "metadata": {},
   "outputs": [],
   "source": [
    "import pandas as pd\n",
    "from sklearn.model_selection import train_test_split\n",
    "from sklearn.linear_model import LinearRegression\n",
    "from sklearn.preprocessing import OneHotEncoder, MinMaxScaler\n",
    "from sklearn.metrics import mean_squared_error"
   ]
  },
  {
   "cell_type": "code",
   "execution_count": null,
   "id": "b4539745",
   "metadata": {},
   "outputs": [],
   "source": [
    "numdata = ds_salaries.select_dtypes(exclude='object')\n",
    "catdata = ds_salaries.select_dtypes(include='object')"
   ]
  },
  {
   "cell_type": "code",
   "execution_count": null,
   "id": "e4a13a78",
   "metadata": {},
   "outputs": [],
   "source": [
    "transformer = MinMaxScaler().fit(numdata)\n",
    "X_norm = transformer.transform(numdata)\n",
    "print(numdata.shape)\n",
    "X_numdata_scale = pd.DataFrame(X_norm, columns=numdata.columns)\n",
    "X_numdata_scale.head()"
   ]
  },
  {
   "cell_type": "code",
   "execution_count": null,
   "id": "8bd64851",
   "metadata": {},
   "outputs": [],
   "source": [
    "encoder = OneHotEncoder(drop='first').fit(catdata)  \n",
    "encoded = encoder.transform(catdata).toarray() \n",
    "encoded_columns = OneHotEncoder(drop='first').fit(catdata).get_feature_names_out(input_features=catdata.columns) \n",
    "\n",
    "onehot_encoded_X = pd.DataFrame(encoded, columns = encoded_columns) \n",
    "onehot_encoded_X.head()"
   ]
  },
  {
   "cell_type": "code",
   "execution_count": null,
   "id": "d5050cd7",
   "metadata": {},
   "outputs": [],
   "source": [
    "concdata = pd.concat([onehot_encoded_X, X_numdata_scale ], axis=1)"
   ]
  },
  {
   "cell_type": "code",
   "execution_count": null,
   "id": "3b00a232",
   "metadata": {},
   "outputs": [],
   "source": [
    "concdata"
   ]
  },
  {
   "cell_type": "code",
   "execution_count": null,
   "id": "edea71e9",
   "metadata": {},
   "outputs": [],
   "source": [
    "X=concdata.drop(['salary_in_eur'], axis=1)\n",
    "y=ds_salaries['salary_in_eur']"
   ]
  },
  {
   "cell_type": "code",
   "execution_count": null,
   "id": "83c193ec",
   "metadata": {},
   "outputs": [],
   "source": [
    "from sklearn.model_selection import train_test_split as tts\n",
    "\n",
    "X_train, X_test, y_train, y_test=tts(X, y, test_size=.2)"
   ]
  },
  {
   "cell_type": "code",
   "execution_count": null,
   "id": "a732e31c",
   "metadata": {},
   "outputs": [],
   "source": [
    "from sklearn.linear_model import LinearRegression as LinReg\n",
    "\n",
    "linreg=LinReg()    \n",
    "linreg.fit(X_train, y_train)   \n",
    "y_pred_linreg=linreg.predict(X_test) "
   ]
  },
  {
   "cell_type": "code",
   "execution_count": null,
   "id": "0e6d533d",
   "metadata": {},
   "outputs": [],
   "source": [
    "print ('train R2: {} -- test R2: {}'.format(linreg.score(X_train, y_train),\n",
    "                                            linreg.score(X_test, y_test)))"
   ]
  },
  {
   "cell_type": "code",
   "execution_count": null,
   "id": "bd2267d8",
   "metadata": {},
   "outputs": [],
   "source": [
    "from sklearn.metrics import mean_squared_error as mse\n",
    "\n",
    "\n",
    "train_mse=mse(linreg.predict(X_train), y_train)\n",
    "test_mse=mse(linreg.predict(X_test), y_test)\n",
    "\n",
    "print ('train MSE: {} -- test MSE: {}'.format(train_mse, test_mse))"
   ]
  },
  {
   "cell_type": "code",
   "execution_count": null,
   "id": "cf7ba453",
   "metadata": {},
   "outputs": [],
   "source": [
    "print ('train RMSE: {} -- test RMSE: {}'.format(train_mse**.5, test_mse**.5))"
   ]
  },
  {
   "cell_type": "code",
   "execution_count": null,
   "id": "b1cc2079",
   "metadata": {},
   "outputs": [],
   "source": [
    "from sklearn.metrics import mean_absolute_error as mae\n",
    "\n",
    "train_mae=mae(linreg.predict(X_train), y_train)\n",
    "test_mae=mae(linreg.predict(X_test), y_test)\n",
    "\n",
    "print ('train MAE: {} -- test MAE: {}'.format(train_mae, test_mae))"
   ]
  },
  {
   "cell_type": "code",
   "execution_count": null,
   "id": "33eafdbf",
   "metadata": {},
   "outputs": [],
   "source": [
    "#Randomforest Regressor"
   ]
  },
  {
   "cell_type": "code",
   "execution_count": null,
   "id": "5c5063b0",
   "metadata": {},
   "outputs": [],
   "source": [
    "from sklearn.model_selection import train_test_split\n",
    "from sklearn.ensemble import RandomForestClassifier, RandomForestRegressor\n",
    "from sklearn.metrics import accuracy_score, mean_squared_error"
   ]
  },
  {
   "cell_type": "code",
   "execution_count": null,
   "id": "f585946f",
   "metadata": {},
   "outputs": [],
   "source": [
    "X = ds_salaries.drop('salary_in_eur', axis=1)  # Features\n",
    "y = ds_salaries['salary_in_eur']  # Target variable\n"
   ]
  },
  {
   "cell_type": "code",
   "execution_count": null,
   "id": "386d02f0",
   "metadata": {},
   "outputs": [],
   "source": [
    "X = pd.get_dummies(X)"
   ]
  },
  {
   "cell_type": "code",
   "execution_count": null,
   "id": "892f9da0",
   "metadata": {},
   "outputs": [],
   "source": [
    "X_train, X_test, y_train, y_test = train_test_split(X, y, test_size=0.2, random_state=42)"
   ]
  },
  {
   "cell_type": "code",
   "execution_count": null,
   "id": "8b64b549",
   "metadata": {},
   "outputs": [],
   "source": [
    "model = RandomForestRegressor(n_estimators=200, random_state=42)\n",
    "model.fit(X_train, y_train)"
   ]
  },
  {
   "cell_type": "code",
   "execution_count": null,
   "id": "9d46532e",
   "metadata": {},
   "outputs": [],
   "source": [
    "y_pred = model.predict(X_test)"
   ]
  },
  {
   "cell_type": "code",
   "execution_count": null,
   "id": "db4a6dfc",
   "metadata": {},
   "outputs": [],
   "source": [
    "from sklearn.metrics import mean_squared_error, r2_score\n",
    "mse = mean_squared_error(y_test, y_pred)\n",
    "r2 = r2_score(y_test, y_pred)\n",
    "print(f'Mean Squared Error: {mse}')\n",
    "print(f'R^2 Score: {r2}')"
   ]
  },
  {
   "cell_type": "markdown",
   "id": "a4ea5d3c",
   "metadata": {},
   "source": [
    "# Focusing on EU Market"
   ]
  },
  {
   "cell_type": "code",
   "execution_count": null,
   "id": "3ca23b80",
   "metadata": {},
   "outputs": [],
   "source": [
    "# focusing on european market, i'm going to only keep the data where companies are basaed in Europe. "
   ]
  },
  {
   "cell_type": "code",
   "execution_count": null,
   "id": "075fb927",
   "metadata": {},
   "outputs": [],
   "source": [
    "#listing european countries\n",
    "european_countries = [\n",
    "    'Albania', 'Andorra', 'Austria', 'Belarus', 'Belgium', 'Bosnia and Herzegovina',\n",
    "    'Bulgaria', 'Croatia', 'Cyprus', 'Czech Republic', 'Denmark', 'Estonia', 'Finland', 'France', 'Georgia',\n",
    "    'Germany', 'Greece', 'Hungary', 'Iceland', 'Ireland', 'Italy', 'Kosovo', 'Latvia', 'Liechtenstein',\n",
    "    'Lithuania', 'Luxembourg', 'Malta', 'Moldova', 'Monaco', 'Montenegro', 'Netherlands', 'North Macedonia', 'Norway',\n",
    "    'Poland', 'Portugal', 'Romania', 'San Marino', 'Serbia', 'Slovakia', 'Slovenia', 'Spain', 'Sweden',\n",
    "    'Switzerland', 'Ukraine', 'United Kingdom', 'Vatican City'\n",
    "]\n"
   ]
  },
  {
   "cell_type": "code",
   "execution_count": null,
   "id": "285cd11e",
   "metadata": {},
   "outputs": [],
   "source": [
    "# creating data science salaries for EU-countries (ds_eu) \n",
    "ds_eu= ds_salaries[ds_salaries['company_location'].isin(european_countries)]"
   ]
  },
  {
   "cell_type": "code",
   "execution_count": null,
   "id": "349d8356",
   "metadata": {},
   "outputs": [],
   "source": [
    "ds_eu"
   ]
  },
  {
   "cell_type": "code",
   "execution_count": null,
   "id": "af03f277",
   "metadata": {},
   "outputs": [],
   "source": [
    "europe_salaries = 'ds_eu.csv'\n",
    "ds_eu.to_csv(europe_salaries, index=False)"
   ]
  },
  {
   "cell_type": "markdown",
   "id": "ac8bb732",
   "metadata": {},
   "source": [
    "# Descriptive Statistics"
   ]
  },
  {
   "cell_type": "code",
   "execution_count": null,
   "id": "74f12747",
   "metadata": {},
   "outputs": [],
   "source": [
    "# Summary statistics\n",
    "summary_stats = ds_eu['salary_in_eur'].describe()\n",
    "summary_stats"
   ]
  },
  {
   "cell_type": "code",
   "execution_count": null,
   "id": "e11da867",
   "metadata": {},
   "outputs": [],
   "source": [
    "import matplotlib.pyplot as plt\n",
    "import seaborn as sns\n",
    "\n",
    "# Histogram\n",
    "plt.figure(figsize=(10, 6))\n",
    "sns.histplot(ds_eu['salary_in_eur'], kde=True)\n",
    "plt.title('Salary Distribution')\n",
    "plt.xlabel('Salary in EUR')\n",
    "plt.ylabel('Frequency')\n",
    "plt.show()\n"
   ]
  },
  {
   "cell_type": "code",
   "execution_count": null,
   "id": "4007ac54",
   "metadata": {},
   "outputs": [],
   "source": [
    "# Average salary by experience level\n",
    "avg_salary_exp = ds_eu.groupby('experience_level')['salary_in_eur'].mean()\n",
    "print(avg_salary_exp)\n",
    "\n",
    "# Average salary by employment type\n",
    "avg_salary_emp_type = ds_eu.groupby('employment_type')['salary_in_eur'].mean()\n",
    "print(avg_salary_emp_type)\n",
    "\n",
    "# Average salary by company size\n",
    "avg_salary_company_size = ds_eu.groupby('company_size')['salary_in_eur'].mean()\n",
    "print(avg_salary_company_size)\n"
   ]
  },
  {
   "cell_type": "code",
   "execution_count": null,
   "id": "dbbde1ff",
   "metadata": {},
   "outputs": [],
   "source": [
    "# Average salary by remote ratio\n",
    "avg_salary_remote = ds_eu.groupby('remote_ratio')['salary_in_eur'].mean()\n",
    "print(avg_salary_remote)\n"
   ]
  },
  {
   "cell_type": "code",
   "execution_count": null,
   "id": "b2b3a556",
   "metadata": {
    "scrolled": true
   },
   "outputs": [],
   "source": [
    "# Average salary by employee residence\n",
    "avg_salary_residence = ds_eu.groupby('employee_residence')['salary_in_eur'].mean().sort_values(ascending=False)\n",
    "print(avg_salary_residence)"
   ]
  },
  {
   "cell_type": "code",
   "execution_count": null,
   "id": "2f7e456c",
   "metadata": {},
   "outputs": [],
   "source": [
    "# Bar Plot for average salary by employee residence\n",
    "plt.figure(figsize=(10, 6))\n",
    "avg_salary_residence.plot(kind='bar')\n",
    "plt.title('Average Salary by Employee Residence')\n",
    "plt.xlabel('Employee Residence')\n",
    "plt.ylabel('Average Salary in EUR')\n",
    "plt.show()\n",
    "\n"
   ]
  },
  {
   "cell_type": "code",
   "execution_count": null,
   "id": "245d0cbe",
   "metadata": {},
   "outputs": [],
   "source": [
    "# Average salary by company location\n",
    "avg_salary_company_loc = ds_eu.groupby('company_location')['salary_in_eur'].mean().sort_values(ascending=False)\n",
    "print(avg_salary_company_loc)"
   ]
  },
  {
   "cell_type": "code",
   "execution_count": null,
   "id": "ce5e4724",
   "metadata": {},
   "outputs": [],
   "source": [
    "# Bar Plot for average salary by company location\n",
    "plt.figure(figsize=(10, 6))\n",
    "avg_salary_company_loc.plot(kind='bar')\n",
    "plt.title('Average Salary by Company Location')\n",
    "plt.xlabel('Company Location')\n",
    "plt.ylabel('Average Salary in EUR')\n",
    "plt.show()"
   ]
  },
  {
   "cell_type": "code",
   "execution_count": null,
   "id": "ea757325",
   "metadata": {},
   "outputs": [],
   "source": [
    "# Salary by experience level\n",
    "plt.figure(figsize=(10, 6))\n",
    "sns.boxplot(x='experience_level', y='salary_in_eur', data=ds_eu)\n",
    "plt.title('Salary by Experience Level')\n",
    "plt.xlabel('Experience Level')\n",
    "plt.ylabel('Salary in EUR')\n",
    "plt.show()"
   ]
  },
  {
   "cell_type": "markdown",
   "id": "b3385cb7",
   "metadata": {},
   "source": [
    "# Predicting salaries in the EU-Market"
   ]
  },
  {
   "cell_type": "code",
   "execution_count": null,
   "id": "bf7a9004",
   "metadata": {},
   "outputs": [],
   "source": [
    "from sklearn.model_selection import train_test_split\n",
    "from sklearn.linear_model import LinearRegression\n",
    "from sklearn.metrics import r2_score\n",
    "from sklearn.metrics import mean_squared_error as mse\n",
    "from sklearn.metrics import mean_absolute_error as mae\n",
    "\n",
    "\n",
    "features = ['work_year', 'experience_level', 'employment_type', 'employee_residence', 'remote_ratio', 'company_location', 'company_size', 'job_category']\n",
    "df_encoded = pd.get_dummies(ds_eu[features], drop_first=True)\n",
    "X = df_encoded\n",
    "y = ds_eu['salary_in_eur']\n",
    "\n",
    "\n",
    "X_train, X_test, y_train, y_test = train_test_split(X, y, test_size=0.2, random_state=42)\n",
    "\n",
    "\n",
    "model = LinearRegression()\n",
    "model.fit(X_train, y_train)\n",
    "\n",
    "\n",
    "y_pred = model.predict(X_test)\n",
    "\n",
    "\n",
    "mae = mae(y_test, y_pred)\n",
    "r2 = r2_score(y_test, y_pred)\n",
    "print(f'Mean Absolute Error: {mae}')\n",
    "print(f'R2 Score: {r2}')\n"
   ]
  },
  {
   "cell_type": "code",
   "execution_count": null,
   "id": "61daba9c",
   "metadata": {},
   "outputs": [],
   "source": [
    "print ('train R2: {} -- test R2: {}'.format(model.score(X_train, y_train),\n",
    "                                            model.score(X_test, y_test)))"
   ]
  },
  {
   "cell_type": "code",
   "execution_count": null,
   "id": "b2e0f1a9",
   "metadata": {},
   "outputs": [],
   "source": [
    "train_mse =mse(model.predict(X_train), y_train)\n",
    "test_mse =mse(model.predict(X_test), y_test)\n",
    "\n",
    "print ('train MSE: {} -- test MSE: {}'.format(train_mse, test_mse))"
   ]
  },
  {
   "cell_type": "code",
   "execution_count": null,
   "id": "d5deb59a",
   "metadata": {},
   "outputs": [],
   "source": [
    "print ('train RMSE: {} -- test RMSE: {}'.format(train_mse**.5, test_mse**.5))"
   ]
  },
  {
   "cell_type": "code",
   "execution_count": null,
   "id": "c5a4e0fc",
   "metadata": {},
   "outputs": [],
   "source": [
    "from sklearn.metrics import mean_absolute_error as mae\n",
    "train_mae= mae(model.predict(X_train), y_train)\n",
    "test_mae= mae(model.predict(X_test), y_test)\n",
    "\n",
    "print ('train MAE: {} -- test MAE: {}'.format(train_mae, test_mae))"
   ]
  },
  {
   "cell_type": "markdown",
   "id": "4dc88a28",
   "metadata": {},
   "source": [
    "# Webscraping Cost Of Living From Numbeo.com"
   ]
  },
  {
   "cell_type": "code",
   "execution_count": null,
   "id": "6809610d",
   "metadata": {},
   "outputs": [],
   "source": [
    "import requests\n",
    "from bs4 import BeautifulSoup\n",
    "import pandas as pd\n",
    "\n",
    "url= 'https://www.numbeo.com/cost-of-living/rankings_by_country.jsp?title=2024&region=150'"
   ]
  },
  {
   "cell_type": "code",
   "execution_count": null,
   "id": "feda6e9e",
   "metadata": {},
   "outputs": [],
   "source": [
    "response = requests.get(url)"
   ]
  },
  {
   "cell_type": "code",
   "execution_count": null,
   "id": "3577530f",
   "metadata": {},
   "outputs": [],
   "source": [
    "response.status_code"
   ]
  },
  {
   "cell_type": "code",
   "execution_count": null,
   "id": "f51a628f",
   "metadata": {},
   "outputs": [],
   "source": [
    "soup = BeautifulSoup(response.content, \"html.parser\")"
   ]
  },
  {
   "cell_type": "code",
   "execution_count": null,
   "id": "2187a9b1",
   "metadata": {},
   "outputs": [],
   "source": [
    "soup.select(\"#t2\")"
   ]
  },
  {
   "cell_type": "code",
   "execution_count": null,
   "id": "8fee7ff3",
   "metadata": {},
   "outputs": [],
   "source": [
    "html = '''[<table class=\"stripe row-border order-column compact\" id=\"t2\">\n",
    " <thead>\n",
    " <tr>\n",
    " <th><div style=\"font-size: 80%; vertical-align: middle;\">Rank</div></th>\n",
    " <th>Country</th>\n",
    " <th><div style=\"font-size: 90%;\">Cost of Living Index</div></th>\n",
    " <th><div style=\"font-size: 90%;\">Rent Index</div></th>\n",
    " <th><div style=\"font-size: 90%;\">Cost of Living Plus Rent Index</div></th>\n",
    " <th><div style=\"font-size: 90%;\">Groceries Index</div></th>\n",
    " <th><div style=\"font-size: 90%;\">Restaurant Price Index</div></th>\n",
    " <th><div style=\"font-size: 90%;\">Local Purchasing Power Index</div></th>\n",
    " </tr>\n",
    " </thead>\n",
    " <tbody>\n",
    " <tr style=\"width: 100%\">\n",
    " <td></td>\n",
    " <td class=\"cityOrCountryInIndicesTable\">Switzerland</td>\n",
    " <td style=\"text-align: right\">112.2</td>\n",
    " <td style=\"text-align: right\">52.8</td>\n",
    " <td style=\"text-align: right\">84.0</td>\n",
    " <td style=\"text-align: right\">116.7</td>\n",
    " <td style=\"text-align: right\">104.1</td>\n",
    " <td style=\"text-align: right\">118.9</td>\n",
    " </tr>\n",
    " <tr style=\"width: 100%\">\n",
    " <td></td>\n",
    " <td class=\"cityOrCountryInIndicesTable\">Iceland</td>\n",
    " <td style=\"text-align: right\">85.7</td>\n",
    " <td style=\"text-align: right\">41.0</td>\n",
    " <td style=\"text-align: right\">64.5</td>\n",
    " <td style=\"text-align: right\">86.5</td>\n",
    " <td style=\"text-align: right\">88.0</td>\n",
    " <td style=\"text-align: right\">109.1</td>\n",
    " </tr>\n",
    " <tr style=\"width: 100%\">\n",
    " <td></td>\n",
    " <td class=\"cityOrCountryInIndicesTable\">Norway</td>\n",
    " <td style=\"text-align: right\">79.2</td>\n",
    " <td style=\"text-align: right\">27.8</td>\n",
    " <td style=\"text-align: right\">54.8</td>\n",
    " <td style=\"text-align: right\">77.5</td>\n",
    " <td style=\"text-align: right\">75.9</td>\n",
    " <td style=\"text-align: right\">94.9</td>\n",
    " </tr>\n",
    " <tr style=\"width: 100%\">\n",
    " <td></td>\n",
    " <td class=\"cityOrCountryInIndicesTable\">Denmark</td>\n",
    " <td style=\"text-align: right\">75.2</td>\n",
    " <td style=\"text-align: right\">28.6</td>\n",
    " <td style=\"text-align: right\">53.1</td>\n",
    " <td style=\"text-align: right\">65.0</td>\n",
    " <td style=\"text-align: right\">82.6</td>\n",
    " <td style=\"text-align: right\">103.3</td>\n",
    " </tr>\n",
    " <tr style=\"width: 100%\">\n",
    " <td></td>\n",
    " <td class=\"cityOrCountryInIndicesTable\">Jersey</td>\n",
    " <td style=\"text-align: right\">74.3</td>\n",
    " <td style=\"text-align: right\">52.5</td>\n",
    " <td style=\"text-align: right\">64.0</td>\n",
    " <td style=\"text-align: right\">64.1</td>\n",
    " <td style=\"text-align: right\">93.6</td>\n",
    " <td style=\"text-align: right\">72.0</td>\n",
    " </tr>\n",
    " <tr style=\"width: 100%\">\n",
    " <td></td>\n",
    " <td class=\"cityOrCountryInIndicesTable\">Guernsey</td>\n",
    " <td style=\"text-align: right\">67.5</td>\n",
    " <td style=\"text-align: right\">46.7</td>\n",
    " <td style=\"text-align: right\">57.6</td>\n",
    " <td style=\"text-align: right\">68.8</td>\n",
    " <td style=\"text-align: right\">63.6</td>\n",
    " <td style=\"text-align: right\">83.2</td>\n",
    " </tr>\n",
    " <tr style=\"width: 100%\">\n",
    " <td></td>\n",
    " <td class=\"cityOrCountryInIndicesTable\">Austria</td>\n",
    " <td style=\"text-align: right\">66.8</td>\n",
    " <td style=\"text-align: right\">23.7</td>\n",
    " <td style=\"text-align: right\">46.4</td>\n",
    " <td style=\"text-align: right\">64.8</td>\n",
    " <td style=\"text-align: right\">59.0</td>\n",
    " <td style=\"text-align: right\">84.4</td>\n",
    " </tr>\n",
    " <tr style=\"width: 100%\">\n",
    " <td></td>\n",
    " <td class=\"cityOrCountryInIndicesTable\">Ireland</td>\n",
    " <td style=\"text-align: right\">66.5</td>\n",
    " <td style=\"text-align: right\">47.3</td>\n",
    " <td style=\"text-align: right\">57.4</td>\n",
    " <td style=\"text-align: right\">58.9</td>\n",
    " <td style=\"text-align: right\">65.9</td>\n",
    " <td style=\"text-align: right\">82.0</td>\n",
    " </tr>\n",
    " <tr style=\"width: 100%\">\n",
    " <td></td>\n",
    " <td class=\"cityOrCountryInIndicesTable\">France</td>\n",
    " <td style=\"text-align: right\">66.0</td>\n",
    " <td style=\"text-align: right\">22.3</td>\n",
    " <td style=\"text-align: right\">45.3</td>\n",
    " <td style=\"text-align: right\">68.6</td>\n",
    " <td style=\"text-align: right\">57.9</td>\n",
    " <td style=\"text-align: right\">83.4</td>\n",
    " </tr>\n",
    " <tr style=\"width: 100%\">\n",
    " <td></td>\n",
    " <td class=\"cityOrCountryInIndicesTable\">Finland</td>\n",
    " <td style=\"text-align: right\">65.5</td>\n",
    " <td style=\"text-align: right\">20.8</td>\n",
    " <td style=\"text-align: right\">44.3</td>\n",
    " <td style=\"text-align: right\">61.6</td>\n",
    " <td style=\"text-align: right\">63.8</td>\n",
    " <td style=\"text-align: right\">97.3</td>\n",
    " </tr>\n",
    " <tr style=\"width: 100%\">\n",
    " <td></td>\n",
    " <td class=\"cityOrCountryInIndicesTable\">Luxembourg</td>\n",
    " <td style=\"text-align: right\">65.3</td>\n",
    " <td style=\"text-align: right\">42.4</td>\n",
    " <td style=\"text-align: right\">54.4</td>\n",
    " <td style=\"text-align: right\">65.1</td>\n",
    " <td style=\"text-align: right\">69.4</td>\n",
    " <td style=\"text-align: right\">148.9</td>\n",
    " </tr>\n",
    " <tr style=\"width: 100%\">\n",
    " <td></td>\n",
    " <td class=\"cityOrCountryInIndicesTable\">Netherlands</td>\n",
    " <td style=\"text-align: right\">64.3</td>\n",
    " <td style=\"text-align: right\">34.5</td>\n",
    " <td style=\"text-align: right\">50.2</td>\n",
    " <td style=\"text-align: right\">57.4</td>\n",
    " <td style=\"text-align: right\">61.0</td>\n",
    " <td style=\"text-align: right\">103.3</td>\n",
    " </tr>\n",
    " <tr style=\"width: 100%\">\n",
    " <td></td>\n",
    " <td class=\"cityOrCountryInIndicesTable\">United Kingdom</td>\n",
    " <td style=\"text-align: right\">63.7</td>\n",
    " <td style=\"text-align: right\">33.5</td>\n",
    " <td style=\"text-align: right\">49.4</td>\n",
    " <td style=\"text-align: right\">55.5</td>\n",
    " <td style=\"text-align: right\">63.9</td>\n",
    " <td style=\"text-align: right\">90.1</td>\n",
    " </tr>\n",
    " <tr style=\"width: 100%\">\n",
    " <td></td>\n",
    " <td class=\"cityOrCountryInIndicesTable\">Belgium</td>\n",
    " <td style=\"text-align: right\">63.0</td>\n",
    " <td style=\"text-align: right\">21.4</td>\n",
    " <td style=\"text-align: right\">43.3</td>\n",
    " <td style=\"text-align: right\">56.1</td>\n",
    " <td style=\"text-align: right\">67.8</td>\n",
    " <td style=\"text-align: right\">90.7</td>\n",
    " </tr>\n",
    " <tr style=\"width: 100%\">\n",
    " <td></td>\n",
    " <td class=\"cityOrCountryInIndicesTable\">Germany</td>\n",
    " <td style=\"text-align: right\">62.7</td>\n",
    " <td style=\"text-align: right\">26.3</td>\n",
    " <td style=\"text-align: right\">45.4</td>\n",
    " <td style=\"text-align: right\">57.6</td>\n",
    " <td style=\"text-align: right\">52.5</td>\n",
    " <td style=\"text-align: right\">101.0</td>\n",
    " </tr>\n",
    " <tr style=\"width: 100%\">\n",
    " <td></td>\n",
    " <td class=\"cityOrCountryInIndicesTable\">Sweden</td>\n",
    " <td style=\"text-align: right\">62.2</td>\n",
    " <td style=\"text-align: right\">23.1</td>\n",
    " <td style=\"text-align: right\">43.6</td>\n",
    " <td style=\"text-align: right\">61.8</td>\n",
    " <td style=\"text-align: right\">56.1</td>\n",
    " <td style=\"text-align: right\">94.6</td>\n",
    " </tr>\n",
    " <tr style=\"width: 100%\">\n",
    " <td></td>\n",
    " <td class=\"cityOrCountryInIndicesTable\">Isle Of Man</td>\n",
    " <td style=\"text-align: right\">59.8</td>\n",
    " <td style=\"text-align: right\">27.4</td>\n",
    " <td style=\"text-align: right\">44.5</td>\n",
    " <td style=\"text-align: right\">48.7</td>\n",
    " <td style=\"text-align: right\">67.9</td>\n",
    " <td style=\"text-align: right\">167.1</td>\n",
    " </tr>\n",
    " <tr style=\"width: 100%\">\n",
    " <td></td>\n",
    " <td class=\"cityOrCountryInIndicesTable\">Italy</td>\n",
    " <td style=\"text-align: right\">58.9</td>\n",
    " <td style=\"text-align: right\">21.1</td>\n",
    " <td style=\"text-align: right\">41.0</td>\n",
    " <td style=\"text-align: right\">56.8</td>\n",
    " <td style=\"text-align: right\">55.0</td>\n",
    " <td style=\"text-align: right\">62.8</td>\n",
    " </tr>\n",
    " <tr style=\"width: 100%\">\n",
    " <td></td>\n",
    " <td class=\"cityOrCountryInIndicesTable\">Malta</td>\n",
    " <td style=\"text-align: right\">55.1</td>\n",
    " <td style=\"text-align: right\">25.3</td>\n",
    " <td style=\"text-align: right\">40.9</td>\n",
    " <td style=\"text-align: right\">49.9</td>\n",
    " <td style=\"text-align: right\">57.5</td>\n",
    " <td style=\"text-align: right\">58.3</td>\n",
    " </tr>\n",
    " <tr style=\"width: 100%\">\n",
    " <td></td>\n",
    " <td class=\"cityOrCountryInIndicesTable\">Greece</td>\n",
    " <td style=\"text-align: right\">54.2</td>\n",
    " <td style=\"text-align: right\">13.6</td>\n",
    " <td style=\"text-align: right\">34.9</td>\n",
    " <td style=\"text-align: right\">47.9</td>\n",
    " <td style=\"text-align: right\">52.9</td>\n",
    " <td style=\"text-align: right\">42.1</td>\n",
    " </tr>\n",
    " <tr style=\"width: 100%\">\n",
    " <td></td>\n",
    " <td class=\"cityOrCountryInIndicesTable\">Estonia</td>\n",
    " <td style=\"text-align: right\">53.0</td>\n",
    " <td style=\"text-align: right\">15.5</td>\n",
    " <td style=\"text-align: right\">35.2</td>\n",
    " <td style=\"text-align: right\">45.2</td>\n",
    " <td style=\"text-align: right\">48.8</td>\n",
    " <td style=\"text-align: right\">69.0</td>\n",
    " </tr>\n",
    " <tr style=\"width: 100%\">\n",
    " <td></td>\n",
    " <td class=\"cityOrCountryInIndicesTable\">Latvia</td>\n",
    " <td style=\"text-align: right\">51.4</td>\n",
    " <td style=\"text-align: right\">11.7</td>\n",
    " <td style=\"text-align: right\">32.6</td>\n",
    " <td style=\"text-align: right\">42.6</td>\n",
    " <td style=\"text-align: right\">46.2</td>\n",
    " <td style=\"text-align: right\">51.9</td>\n",
    " </tr>\n",
    " <tr style=\"width: 100%\">\n",
    " <td></td>\n",
    " <td class=\"cityOrCountryInIndicesTable\">Slovenia</td>\n",
    " <td style=\"text-align: right\">49.3</td>\n",
    " <td style=\"text-align: right\">17.0</td>\n",
    " <td style=\"text-align: right\">34.0</td>\n",
    " <td style=\"text-align: right\">46.3</td>\n",
    " <td style=\"text-align: right\">41.2</td>\n",
    " <td style=\"text-align: right\">68.0</td>\n",
    " </tr>\n",
    " <tr style=\"width: 100%\">\n",
    " <td></td>\n",
    " <td class=\"cityOrCountryInIndicesTable\">Czech Republic</td>\n",
    " <td style=\"text-align: right\">48.6</td>\n",
    " <td style=\"text-align: right\">21.0</td>\n",
    " <td style=\"text-align: right\">35.5</td>\n",
    " <td style=\"text-align: right\">44.1</td>\n",
    " <td style=\"text-align: right\">34.5</td>\n",
    " <td style=\"text-align: right\">64.9</td>\n",
    " </tr>\n",
    " <tr style=\"width: 100%\">\n",
    " <td></td>\n",
    " <td class=\"cityOrCountryInIndicesTable\">Lithuania</td>\n",
    " <td style=\"text-align: right\">48.4</td>\n",
    " <td style=\"text-align: right\">15.8</td>\n",
    " <td style=\"text-align: right\">32.9</td>\n",
    " <td style=\"text-align: right\">43.6</td>\n",
    " <td style=\"text-align: right\">45.1</td>\n",
    " <td style=\"text-align: right\">61.8</td>\n",
    " </tr>\n",
    " <tr style=\"width: 100%\">\n",
    " <td></td>\n",
    " <td class=\"cityOrCountryInIndicesTable\">Spain</td>\n",
    " <td style=\"text-align: right\">48.4</td>\n",
    " <td style=\"text-align: right\">23.6</td>\n",
    " <td style=\"text-align: right\">36.6</td>\n",
    " <td style=\"text-align: right\">45.1</td>\n",
    " <td style=\"text-align: right\">44.0</td>\n",
    " <td style=\"text-align: right\">78.2</td>\n",
    " </tr>\n",
    " <tr style=\"width: 100%\">\n",
    " <td></td>\n",
    " <td class=\"cityOrCountryInIndicesTable\">Slovakia</td>\n",
    " <td style=\"text-align: right\">47.9</td>\n",
    " <td style=\"text-align: right\">15.1</td>\n",
    " <td style=\"text-align: right\">32.4</td>\n",
    " <td style=\"text-align: right\">45.1</td>\n",
    " <td style=\"text-align: right\">35.5</td>\n",
    " <td style=\"text-align: right\">55.8</td>\n",
    " </tr>\n",
    " <tr style=\"width: 100%\">\n",
    " <td></td>\n",
    " <td class=\"cityOrCountryInIndicesTable\">Croatia</td>\n",
    " <td style=\"text-align: right\">46.9</td>\n",
    " <td style=\"text-align: right\">14.5</td>\n",
    " <td style=\"text-align: right\">31.5</td>\n",
    " <td style=\"text-align: right\">42.6</td>\n",
    " <td style=\"text-align: right\">42.6</td>\n",
    " <td style=\"text-align: right\">58.0</td>\n",
    " </tr>\n",
    " <tr style=\"width: 100%\">\n",
    " <td></td>\n",
    " <td class=\"cityOrCountryInIndicesTable\">Portugal</td>\n",
    " <td style=\"text-align: right\">46.6</td>\n",
    " <td style=\"text-align: right\">25.4</td>\n",
    " <td style=\"text-align: right\">36.5</td>\n",
    " <td style=\"text-align: right\">42.9</td>\n",
    " <td style=\"text-align: right\">37.9</td>\n",
    " <td style=\"text-align: right\">46.5</td>\n",
    " </tr>\n",
    " <tr style=\"width: 100%\">\n",
    " <td></td>\n",
    " <td class=\"cityOrCountryInIndicesTable\">Hungary</td>\n",
    " <td style=\"text-align: right\">43.4</td>\n",
    " <td style=\"text-align: right\">11.3</td>\n",
    " <td style=\"text-align: right\">28.2</td>\n",
    " <td style=\"text-align: right\">39.5</td>\n",
    " <td style=\"text-align: right\">36.7</td>\n",
    " <td style=\"text-align: right\">49.8</td>\n",
    " </tr>\n",
    " <tr style=\"width: 100%\">\n",
    " <td></td>\n",
    " <td class=\"cityOrCountryInIndicesTable\">Poland</td>\n",
    " <td style=\"text-align: right\">41.9</td>\n",
    " <td style=\"text-align: right\">19.2</td>\n",
    " <td style=\"text-align: right\">31.1</td>\n",
    " <td style=\"text-align: right\">35.9</td>\n",
    " <td style=\"text-align: right\">35.7</td>\n",
    " <td style=\"text-align: right\">66.2</td>\n",
    " </tr>\n",
    " <tr style=\"width: 100%\">\n",
    " <td></td>\n",
    " <td class=\"cityOrCountryInIndicesTable\">Montenegro</td>\n",
    " <td style=\"text-align: right\">40.9</td>\n",
    " <td style=\"text-align: right\">16.6</td>\n",
    " <td style=\"text-align: right\">29.4</td>\n",
    " <td style=\"text-align: right\">36.3</td>\n",
    " <td style=\"text-align: right\">35.6</td>\n",
    " <td style=\"text-align: right\">41.8</td>\n",
    " </tr>\n",
    " <tr style=\"width: 100%\">\n",
    " <td></td>\n",
    " <td class=\"cityOrCountryInIndicesTable\">Albania</td>\n",
    " <td style=\"text-align: right\">40.8</td>\n",
    " <td style=\"text-align: right\">10.2</td>\n",
    " <td style=\"text-align: right\">26.3</td>\n",
    " <td style=\"text-align: right\">39.4</td>\n",
    " <td style=\"text-align: right\">31.0</td>\n",
    " <td style=\"text-align: right\">31.6</td>\n",
    " </tr>\n",
    " <tr style=\"width: 100%\">\n",
    " <td></td>\n",
    " <td class=\"cityOrCountryInIndicesTable\">Romania</td>\n",
    " <td style=\"text-align: right\">38.8</td>\n",
    " <td style=\"text-align: right\">10.6</td>\n",
    " <td style=\"text-align: right\">25.4</td>\n",
    " <td style=\"text-align: right\">36.4</td>\n",
    " <td style=\"text-align: right\">35.0</td>\n",
    " <td style=\"text-align: right\">48.4</td>\n",
    " </tr>\n",
    " <tr style=\"width: 100%\">\n",
    " <td></td>\n",
    " <td class=\"cityOrCountryInIndicesTable\">Bulgaria</td>\n",
    " <td style=\"text-align: right\">38.7</td>\n",
    " <td style=\"text-align: right\">9.9</td>\n",
    " <td style=\"text-align: right\">25.1</td>\n",
    " <td style=\"text-align: right\">37.6</td>\n",
    " <td style=\"text-align: right\">32.8</td>\n",
    " <td style=\"text-align: right\">52.6</td>\n",
    " </tr>\n",
    " <tr style=\"width: 100%\">\n",
    " <td></td>\n",
    " <td class=\"cityOrCountryInIndicesTable\">Serbia</td>\n",
    " <td style=\"text-align: right\">38.3</td>\n",
    " <td style=\"text-align: right\">12.7</td>\n",
    " <td style=\"text-align: right\">26.2</td>\n",
    " <td style=\"text-align: right\">35.0</td>\n",
    " <td style=\"text-align: right\">30.4</td>\n",
    " <td style=\"text-align: right\">39.6</td>\n",
    " </tr>\n",
    " <tr style=\"width: 100%\">\n",
    " <td></td>\n",
    " <td class=\"cityOrCountryInIndicesTable\">Bosnia And Herzegovina</td>\n",
    " <td style=\"text-align: right\">34.7</td>\n",
    " <td style=\"text-align: right\">5.7</td>\n",
    " <td style=\"text-align: right\">21.0</td>\n",
    " <td style=\"text-align: right\">32.7</td>\n",
    " <td style=\"text-align: right\">22.0</td>\n",
    " <td style=\"text-align: right\">47.1</td>\n",
    " </tr>\n",
    " <tr style=\"width: 100%\">\n",
    " <td></td>\n",
    " <td class=\"cityOrCountryInIndicesTable\">Moldova</td>\n",
    " <td style=\"text-align: right\">34.6</td>\n",
    " <td style=\"text-align: right\">9.8</td>\n",
    " <td style=\"text-align: right\">22.8</td>\n",
    " <td style=\"text-align: right\">31.0</td>\n",
    " <td style=\"text-align: right\">26.6</td>\n",
    " <td style=\"text-align: right\">35.2</td>\n",
    " </tr>\n",
    " <tr style=\"width: 100%\">\n",
    " <td></td>\n",
    " <td class=\"cityOrCountryInIndicesTable\">North Macedonia</td>\n",
    " <td style=\"text-align: right\">34.1</td>\n",
    " <td style=\"text-align: right\">6.8</td>\n",
    " <td style=\"text-align: right\">21.1</td>\n",
    " <td style=\"text-align: right\">31.2</td>\n",
    " <td style=\"text-align: right\">22.8</td>\n",
    " <td style=\"text-align: right\">37.0</td>\n",
    " </tr>\n",
    " <tr style=\"width: 100%\">\n",
    " <td></td>\n",
    " <td class=\"cityOrCountryInIndicesTable\">Kosovo (Disputed Territory)</td>\n",
    " <td style=\"text-align: right\">31.3</td>\n",
    " <td style=\"text-align: right\">8.5</td>\n",
    " <td style=\"text-align: right\">20.5</td>\n",
    " <td style=\"text-align: right\">29.3</td>\n",
    " <td style=\"text-align: right\">20.7</td>\n",
    " <td style=\"text-align: right\">34.8</td>\n",
    " </tr>\n",
    " <tr style=\"width: 100%\">\n",
    " <td></td>\n",
    " <td class=\"cityOrCountryInIndicesTable\">Russia</td>\n",
    " <td style=\"text-align: right\">29.5</td>\n",
    " <td style=\"text-align: right\">9.9</td>\n",
    " <td style=\"text-align: right\">20.2</td>\n",
    " <td style=\"text-align: right\">25.9</td>\n",
    " <td style=\"text-align: right\">26.2</td>\n",
    " <td style=\"text-align: right\">41.5</td>\n",
    " </tr>\n",
    " <tr style=\"width: 100%\">\n",
    " <td></td>\n",
    " <td class=\"cityOrCountryInIndicesTable\">Ukraine</td>\n",
    " <td style=\"text-align: right\">28.6</td>\n",
    " <td style=\"text-align: right\">8.5</td>\n",
    " <td style=\"text-align: right\">19.0</td>\n",
    " <td style=\"text-align: right\">26.6</td>\n",
    " <td style=\"text-align: right\">22.2</td>\n",
    " <td style=\"text-align: right\">32.2</td>\n",
    " </tr>\n",
    " <tr style=\"width: 100%\">\n",
    " <td></td>\n",
    " <td class=\"cityOrCountryInIndicesTable\">Belarus</td>\n",
    " <td style=\"text-align: right\">27.1</td>\n",
    " <td style=\"text-align: right\">8.2</td>\n",
    " <td style=\"text-align: right\">18.2</td>\n",
    " <td style=\"text-align: right\">24.4</td>\n",
    " <td style=\"text-align: right\">25.3</td>\n",
    " <td style=\"text-align: right\">39.6</td>\n",
    " </tr>\n",
    " </tbody>\n",
    " </table>]'''"
   ]
  },
  {
   "cell_type": "code",
   "execution_count": null,
   "id": "d5c793bb",
   "metadata": {},
   "outputs": [],
   "source": [
    "soup = BeautifulSoup(html, 'html.parser')\n",
    "\n",
    "\n",
    "headers = []\n",
    "for th in soup.find_all('thead')[0].find_all('th'):\n",
    "    if th.div:\n",
    "        headers.append(th.div.text.strip())\n",
    "    else:\n",
    "        headers.append(th.text.strip())\n",
    "\n",
    "rows = []\n",
    "for tr in soup.find_all('tbody')[0].find_all('tr'):\n",
    "    row = []\n",
    "    for td in tr.find_all('td'):\n",
    "        row.append(td.text.strip())\n",
    "    rows.append(row)\n",
    "\n",
    "\n",
    "cost_of_living = pd.DataFrame(rows, columns=headers)\n"
   ]
  },
  {
   "cell_type": "code",
   "execution_count": null,
   "id": "233361c2",
   "metadata": {},
   "outputs": [],
   "source": [
    "ds_eu_countries= ds_eu['company_location'].unique()"
   ]
  },
  {
   "cell_type": "code",
   "execution_count": null,
   "id": "bf3a75c7",
   "metadata": {},
   "outputs": [],
   "source": [
    "ds_eu['company_location'].unique()"
   ]
  },
  {
   "cell_type": "code",
   "execution_count": null,
   "id": "3c7fd03d",
   "metadata": {},
   "outputs": [],
   "source": [
    "cost_of_living= cost_of_living[cost_of_living['Country'].isin(ds_eu_countries)]"
   ]
  },
  {
   "cell_type": "code",
   "execution_count": null,
   "id": "76ce2021",
   "metadata": {},
   "outputs": [],
   "source": [
    "cost_of_living.reset_index(drop=True, inplace=True)"
   ]
  },
  {
   "cell_type": "code",
   "execution_count": null,
   "id": "6786e829",
   "metadata": {},
   "outputs": [],
   "source": [
    "cost_countries= cost_of_living['Country'].unique()"
   ]
  },
  {
   "cell_type": "code",
   "execution_count": null,
   "id": "c7dff5b3",
   "metadata": {},
   "outputs": [],
   "source": [
    "ds_eu= ds_eu[ds_eu['company_location'].isin(cost_countries)]"
   ]
  },
  {
   "cell_type": "code",
   "execution_count": null,
   "id": "39d5972e",
   "metadata": {},
   "outputs": [],
   "source": [
    "avg_salaries = ds_eu.groupby('company_location')['salary_in_eur'].mean().reset_index()"
   ]
  },
  {
   "cell_type": "code",
   "execution_count": null,
   "id": "8154df9b",
   "metadata": {},
   "outputs": [],
   "source": [
    "avg_salaries.columns = ['country', 'avg_salary']"
   ]
  },
  {
   "cell_type": "code",
   "execution_count": null,
   "id": "5e1c8e3b",
   "metadata": {},
   "outputs": [],
   "source": [
    "cost_of_living.columns = cost_of_living.columns.str.lower().str.replace(' ', '_')"
   ]
  },
  {
   "cell_type": "code",
   "execution_count": null,
   "id": "db5fa5c3",
   "metadata": {},
   "outputs": [],
   "source": [
    "costs_sals = pd.merge(cost_of_living, avg_salaries, on='country', how='inner')"
   ]
  },
  {
   "cell_type": "code",
   "execution_count": null,
   "id": "887c2bd6",
   "metadata": {},
   "outputs": [],
   "source": [
    "costs_sals.drop(columns=['rank'], inplace=True)"
   ]
  },
  {
   "cell_type": "code",
   "execution_count": null,
   "id": "3b7afe57",
   "metadata": {},
   "outputs": [],
   "source": [
    "costs_sals.drop(columns=['rent_index', 'cost_of_living_plus_rent_index', 'groceries_index', 'restaurant_price_index', 'local_purchasing_power_index'], inplace=True)"
   ]
  },
  {
   "cell_type": "code",
   "execution_count": null,
   "id": "79e258ea",
   "metadata": {},
   "outputs": [],
   "source": [
    "costs_sals['cost_of_living_index'] = costs_sals['cost_of_living_index'].astype(float)"
   ]
  },
  {
   "cell_type": "code",
   "execution_count": null,
   "id": "e8128ec4",
   "metadata": {},
   "outputs": [],
   "source": [
    "costs_sals['salary_index'] = (costs_sals['avg_salary'] / costs_sals['cost_of_living_index']) * 100\n"
   ]
  },
  {
   "cell_type": "code",
   "execution_count": null,
   "id": "f67a4642",
   "metadata": {},
   "outputs": [],
   "source": [
    "costs_sals"
   ]
  },
  {
   "cell_type": "code",
   "execution_count": null,
   "id": "6536655d",
   "metadata": {},
   "outputs": [],
   "source": [
    "col = 'cost_of_living.csv'\n",
    "cost_of_living.to_csv(col, index=False)"
   ]
  },
  {
   "cell_type": "code",
   "execution_count": null,
   "id": "eaf67f8d",
   "metadata": {},
   "outputs": [],
   "source": [
    "costs_salaries = 'cost_sals.csv'\n",
    "costs_sals.to_csv(costs_salaries, index=False)"
   ]
  },
  {
   "cell_type": "code",
   "execution_count": null,
   "id": "782b296b",
   "metadata": {},
   "outputs": [],
   "source": [
    "eu_int_countries = ['Germany', 'Netherlands', 'Spain','France', 'Hungary', 'Austria', 'Switzerland', 'United Kingdom', 'Belgium']"
   ]
  },
  {
   "cell_type": "code",
   "execution_count": null,
   "id": "2effb10a",
   "metadata": {},
   "outputs": [],
   "source": [
    "cost_sal_index = costs_sals[costs_sals['country'].isin(eu_int_countries)]"
   ]
  },
  {
   "cell_type": "code",
   "execution_count": null,
   "id": "a4c649a7",
   "metadata": {},
   "outputs": [],
   "source": [
    "cost_sal_ind= 'cost_sal_index.csv'\n",
    "cost_sal_index.to_csv(cost_sal_ind, index=False)"
   ]
  },
  {
   "cell_type": "code",
   "execution_count": null,
   "id": "b0e73b3c",
   "metadata": {},
   "outputs": [],
   "source": [
    "int_countries = ds_eu[ds_eu['company_location'].isin(eu_int_countries)]"
   ]
  },
  {
   "cell_type": "code",
   "execution_count": null,
   "id": "ac5ce9e0",
   "metadata": {},
   "outputs": [],
   "source": [
    "int_coun= 'int_countries.csv'\n",
    "int_countries.to_csv(int_coun, index=False)"
   ]
  },
  {
   "cell_type": "code",
   "execution_count": null,
   "id": "7c7c1f00",
   "metadata": {},
   "outputs": [],
   "source": [
    "int_countries.columns"
   ]
  },
  {
   "cell_type": "code",
   "execution_count": null,
   "id": "f2f62025",
   "metadata": {},
   "outputs": [],
   "source": []
  }
 ],
 "metadata": {
  "kernelspec": {
   "display_name": "Python 3 (ipykernel)",
   "language": "python",
   "name": "python3"
  },
  "language_info": {
   "codemirror_mode": {
    "name": "ipython",
    "version": 3
   },
   "file_extension": ".py",
   "mimetype": "text/x-python",
   "name": "python",
   "nbconvert_exporter": "python",
   "pygments_lexer": "ipython3",
   "version": "3.11.5"
  }
 },
 "nbformat": 4,
 "nbformat_minor": 5
}
